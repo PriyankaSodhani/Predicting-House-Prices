{
 "cells": [
  {
   "cell_type": "markdown",
   "metadata": {},
   "source": [
    "# Predicting House Prices"
   ]
  },
  {
   "cell_type": "markdown",
   "metadata": {},
   "source": [
    "The challenge is to predict house prices in Ames,Iowa. \n",
    "The dataset has been taken from Kaggle"
   ]
  },
  {
   "cell_type": "code",
   "execution_count": 48,
   "metadata": {
    "collapsed": true
   },
   "outputs": [],
   "source": [
    "import pandas as pd\n",
    "import numpy as np\n",
    "import matplotlib.pyplot as plt\n",
    "import seaborn as sns\n",
    "from scipy import stats\n",
    "\n",
    "\n",
    "plt.style.use(style='ggplot')\n",
    "pd.set_option('display.float_format', lambda x: '%.3f' % x)\n",
    "np.set_printoptions(suppress=True)\n",
    "\n",
    "import warnings\n",
    "warnings.filterwarnings('ignore')\n",
    "\n",
    "%matplotlib inline\n"
   ]
  },
  {
   "cell_type": "code",
   "execution_count": 2,
   "metadata": {
    "collapsed": true
   },
   "outputs": [],
   "source": [
    "train_df = pd.read_csv('../data/train.csv')\n",
    "test_df = pd.read_csv('../data/test.csv')\n",
    "\n",
    "train_df_copy = train_df.copy()\n",
    "test_df_copy = test_df.copy()"
   ]
  },
  {
   "cell_type": "code",
   "execution_count": 3,
   "metadata": {},
   "outputs": [
    {
     "name": "stdout",
     "output_type": "stream",
     "text": [
      "Training set size: (1460, 81)\n",
      "Test set size: (1459, 80)\n"
     ]
    }
   ],
   "source": [
    "print('Training set size:', train_df.shape)\n",
    "print('Test set size:', test_df.shape)"
   ]
  },
  {
   "cell_type": "code",
   "execution_count": 4,
   "metadata": {},
   "outputs": [
    {
     "data": {
      "text/html": [
       "<div>\n",
       "<style>\n",
       "    .dataframe thead tr:only-child th {\n",
       "        text-align: right;\n",
       "    }\n",
       "\n",
       "    .dataframe thead th {\n",
       "        text-align: left;\n",
       "    }\n",
       "\n",
       "    .dataframe tbody tr th {\n",
       "        vertical-align: top;\n",
       "    }\n",
       "</style>\n",
       "<table border=\"1\" class=\"dataframe\">\n",
       "  <thead>\n",
       "    <tr style=\"text-align: right;\">\n",
       "      <th></th>\n",
       "      <th>Id</th>\n",
       "      <th>MSSubClass</th>\n",
       "      <th>MSZoning</th>\n",
       "      <th>LotFrontage</th>\n",
       "      <th>LotArea</th>\n",
       "      <th>Street</th>\n",
       "      <th>Alley</th>\n",
       "      <th>LotShape</th>\n",
       "      <th>LandContour</th>\n",
       "      <th>Utilities</th>\n",
       "      <th>...</th>\n",
       "      <th>PoolArea</th>\n",
       "      <th>PoolQC</th>\n",
       "      <th>Fence</th>\n",
       "      <th>MiscFeature</th>\n",
       "      <th>MiscVal</th>\n",
       "      <th>MoSold</th>\n",
       "      <th>YrSold</th>\n",
       "      <th>SaleType</th>\n",
       "      <th>SaleCondition</th>\n",
       "      <th>SalePrice</th>\n",
       "    </tr>\n",
       "  </thead>\n",
       "  <tbody>\n",
       "    <tr>\n",
       "      <th>0</th>\n",
       "      <td>1</td>\n",
       "      <td>60</td>\n",
       "      <td>RL</td>\n",
       "      <td>65.0</td>\n",
       "      <td>8450</td>\n",
       "      <td>Pave</td>\n",
       "      <td>NaN</td>\n",
       "      <td>Reg</td>\n",
       "      <td>Lvl</td>\n",
       "      <td>AllPub</td>\n",
       "      <td>...</td>\n",
       "      <td>0</td>\n",
       "      <td>NaN</td>\n",
       "      <td>NaN</td>\n",
       "      <td>NaN</td>\n",
       "      <td>0</td>\n",
       "      <td>2</td>\n",
       "      <td>2008</td>\n",
       "      <td>WD</td>\n",
       "      <td>Normal</td>\n",
       "      <td>208500</td>\n",
       "    </tr>\n",
       "    <tr>\n",
       "      <th>1</th>\n",
       "      <td>2</td>\n",
       "      <td>20</td>\n",
       "      <td>RL</td>\n",
       "      <td>80.0</td>\n",
       "      <td>9600</td>\n",
       "      <td>Pave</td>\n",
       "      <td>NaN</td>\n",
       "      <td>Reg</td>\n",
       "      <td>Lvl</td>\n",
       "      <td>AllPub</td>\n",
       "      <td>...</td>\n",
       "      <td>0</td>\n",
       "      <td>NaN</td>\n",
       "      <td>NaN</td>\n",
       "      <td>NaN</td>\n",
       "      <td>0</td>\n",
       "      <td>5</td>\n",
       "      <td>2007</td>\n",
       "      <td>WD</td>\n",
       "      <td>Normal</td>\n",
       "      <td>181500</td>\n",
       "    </tr>\n",
       "    <tr>\n",
       "      <th>2</th>\n",
       "      <td>3</td>\n",
       "      <td>60</td>\n",
       "      <td>RL</td>\n",
       "      <td>68.0</td>\n",
       "      <td>11250</td>\n",
       "      <td>Pave</td>\n",
       "      <td>NaN</td>\n",
       "      <td>IR1</td>\n",
       "      <td>Lvl</td>\n",
       "      <td>AllPub</td>\n",
       "      <td>...</td>\n",
       "      <td>0</td>\n",
       "      <td>NaN</td>\n",
       "      <td>NaN</td>\n",
       "      <td>NaN</td>\n",
       "      <td>0</td>\n",
       "      <td>9</td>\n",
       "      <td>2008</td>\n",
       "      <td>WD</td>\n",
       "      <td>Normal</td>\n",
       "      <td>223500</td>\n",
       "    </tr>\n",
       "    <tr>\n",
       "      <th>3</th>\n",
       "      <td>4</td>\n",
       "      <td>70</td>\n",
       "      <td>RL</td>\n",
       "      <td>60.0</td>\n",
       "      <td>9550</td>\n",
       "      <td>Pave</td>\n",
       "      <td>NaN</td>\n",
       "      <td>IR1</td>\n",
       "      <td>Lvl</td>\n",
       "      <td>AllPub</td>\n",
       "      <td>...</td>\n",
       "      <td>0</td>\n",
       "      <td>NaN</td>\n",
       "      <td>NaN</td>\n",
       "      <td>NaN</td>\n",
       "      <td>0</td>\n",
       "      <td>2</td>\n",
       "      <td>2006</td>\n",
       "      <td>WD</td>\n",
       "      <td>Abnorml</td>\n",
       "      <td>140000</td>\n",
       "    </tr>\n",
       "    <tr>\n",
       "      <th>4</th>\n",
       "      <td>5</td>\n",
       "      <td>60</td>\n",
       "      <td>RL</td>\n",
       "      <td>84.0</td>\n",
       "      <td>14260</td>\n",
       "      <td>Pave</td>\n",
       "      <td>NaN</td>\n",
       "      <td>IR1</td>\n",
       "      <td>Lvl</td>\n",
       "      <td>AllPub</td>\n",
       "      <td>...</td>\n",
       "      <td>0</td>\n",
       "      <td>NaN</td>\n",
       "      <td>NaN</td>\n",
       "      <td>NaN</td>\n",
       "      <td>0</td>\n",
       "      <td>12</td>\n",
       "      <td>2008</td>\n",
       "      <td>WD</td>\n",
       "      <td>Normal</td>\n",
       "      <td>250000</td>\n",
       "    </tr>\n",
       "  </tbody>\n",
       "</table>\n",
       "<p>5 rows × 81 columns</p>\n",
       "</div>"
      ],
      "text/plain": [
       "   Id  MSSubClass MSZoning  LotFrontage  LotArea Street Alley LotShape  \\\n",
       "0   1          60       RL         65.0     8450   Pave   NaN      Reg   \n",
       "1   2          20       RL         80.0     9600   Pave   NaN      Reg   \n",
       "2   3          60       RL         68.0    11250   Pave   NaN      IR1   \n",
       "3   4          70       RL         60.0     9550   Pave   NaN      IR1   \n",
       "4   5          60       RL         84.0    14260   Pave   NaN      IR1   \n",
       "\n",
       "  LandContour Utilities    ...     PoolArea PoolQC Fence MiscFeature MiscVal  \\\n",
       "0         Lvl    AllPub    ...            0    NaN   NaN         NaN       0   \n",
       "1         Lvl    AllPub    ...            0    NaN   NaN         NaN       0   \n",
       "2         Lvl    AllPub    ...            0    NaN   NaN         NaN       0   \n",
       "3         Lvl    AllPub    ...            0    NaN   NaN         NaN       0   \n",
       "4         Lvl    AllPub    ...            0    NaN   NaN         NaN       0   \n",
       "\n",
       "  MoSold YrSold  SaleType  SaleCondition  SalePrice  \n",
       "0      2   2008        WD         Normal     208500  \n",
       "1      5   2007        WD         Normal     181500  \n",
       "2      9   2008        WD         Normal     223500  \n",
       "3      2   2006        WD        Abnorml     140000  \n",
       "4     12   2008        WD         Normal     250000  \n",
       "\n",
       "[5 rows x 81 columns]"
      ]
     },
     "execution_count": 4,
     "metadata": {},
     "output_type": "execute_result"
    }
   ],
   "source": [
    "train_df.head()"
   ]
  },
  {
   "cell_type": "markdown",
   "metadata": {
    "collapsed": true
   },
   "source": [
    "## Exploring and cleaning variables"
   ]
  },
  {
   "cell_type": "markdown",
   "metadata": {},
   "source": [
    "There are around 80 features, one target variable - Sale Price.\n",
    "Lets understand each of these and check if they are actually useful for our problem.\n",
    "\n",
    "Data Dictionary file can be found [here](https://storage.googleapis.com/kaggle-competitions-data/kaggle/5407/205873/data_description.txt?GoogleAccessId=web-data@kaggle-161607.iam.gserviceaccount.com&Expires=1543902317&Signature=gn%2BX4%2B6Tml56r0dKye%2FTpJN%2Fg6M5OMk24vIGxrci0UsFm%2FJxuUm59HmpyjDJ5HF5uRrvJ0hJp2K6%2FDDty5SOlnvNsyQK7Z111guA5HElIHJ0x4zvNy95c1OyDbdxcXXN8Bqr2DzAZqCcE%2B0fWPT%2BwRWPKS1gDgnv%2BurdDlF%2FBIcJHeHFyFupu8Cu3s9PR7%2FgqkE7L%2B7uIXZ9%2F10%2FM34r%2Fkn6zo1HK95T7h1CjjGzGYAsId94Rb36MB8j5nqvAP9hpLyhThaRz5ZK9gUnHXdgR4Ei01kOt3H%2BL%2FE8LoWNJuX5%2Fs74%2FeAQ4nmwzL9jrf4vzc1pd8e%2BaEINCHXo%2BFX3aw%3D%3D)\n",
    "Not all features influences the target variable(sale price).\n",
    "\n",
    "Features that I would look for while buying a house would be:\n",
    "* Location\n",
    "* Size of house\n",
    "* Facilities - like club house, swimming pool in society , etc\n",
    "* Accessebility - like parks,schools in vicinity"
   ]
  },
  {
   "cell_type": "code",
   "execution_count": 5,
   "metadata": {},
   "outputs": [
    {
     "name": "stdout",
     "output_type": "stream",
     "text": [
      "<class 'pandas.core.frame.DataFrame'>\n",
      "RangeIndex: 1460 entries, 0 to 1459\n",
      "Data columns (total 81 columns):\n",
      "Id               1460 non-null int64\n",
      "MSSubClass       1460 non-null int64\n",
      "MSZoning         1460 non-null object\n",
      "LotFrontage      1201 non-null float64\n",
      "LotArea          1460 non-null int64\n",
      "Street           1460 non-null object\n",
      "Alley            91 non-null object\n",
      "LotShape         1460 non-null object\n",
      "LandContour      1460 non-null object\n",
      "Utilities        1460 non-null object\n",
      "LotConfig        1460 non-null object\n",
      "LandSlope        1460 non-null object\n",
      "Neighborhood     1460 non-null object\n",
      "Condition1       1460 non-null object\n",
      "Condition2       1460 non-null object\n",
      "BldgType         1460 non-null object\n",
      "HouseStyle       1460 non-null object\n",
      "OverallQual      1460 non-null int64\n",
      "OverallCond      1460 non-null int64\n",
      "YearBuilt        1460 non-null int64\n",
      "YearRemodAdd     1460 non-null int64\n",
      "RoofStyle        1460 non-null object\n",
      "RoofMatl         1460 non-null object\n",
      "Exterior1st      1460 non-null object\n",
      "Exterior2nd      1460 non-null object\n",
      "MasVnrType       1452 non-null object\n",
      "MasVnrArea       1452 non-null float64\n",
      "ExterQual        1460 non-null object\n",
      "ExterCond        1460 non-null object\n",
      "Foundation       1460 non-null object\n",
      "BsmtQual         1423 non-null object\n",
      "BsmtCond         1423 non-null object\n",
      "BsmtExposure     1422 non-null object\n",
      "BsmtFinType1     1423 non-null object\n",
      "BsmtFinSF1       1460 non-null int64\n",
      "BsmtFinType2     1422 non-null object\n",
      "BsmtFinSF2       1460 non-null int64\n",
      "BsmtUnfSF        1460 non-null int64\n",
      "TotalBsmtSF      1460 non-null int64\n",
      "Heating          1460 non-null object\n",
      "HeatingQC        1460 non-null object\n",
      "CentralAir       1460 non-null object\n",
      "Electrical       1459 non-null object\n",
      "1stFlrSF         1460 non-null int64\n",
      "2ndFlrSF         1460 non-null int64\n",
      "LowQualFinSF     1460 non-null int64\n",
      "GrLivArea        1460 non-null int64\n",
      "BsmtFullBath     1460 non-null int64\n",
      "BsmtHalfBath     1460 non-null int64\n",
      "FullBath         1460 non-null int64\n",
      "HalfBath         1460 non-null int64\n",
      "BedroomAbvGr     1460 non-null int64\n",
      "KitchenAbvGr     1460 non-null int64\n",
      "KitchenQual      1460 non-null object\n",
      "TotRmsAbvGrd     1460 non-null int64\n",
      "Functional       1460 non-null object\n",
      "Fireplaces       1460 non-null int64\n",
      "FireplaceQu      770 non-null object\n",
      "GarageType       1379 non-null object\n",
      "GarageYrBlt      1379 non-null float64\n",
      "GarageFinish     1379 non-null object\n",
      "GarageCars       1460 non-null int64\n",
      "GarageArea       1460 non-null int64\n",
      "GarageQual       1379 non-null object\n",
      "GarageCond       1379 non-null object\n",
      "PavedDrive       1460 non-null object\n",
      "WoodDeckSF       1460 non-null int64\n",
      "OpenPorchSF      1460 non-null int64\n",
      "EnclosedPorch    1460 non-null int64\n",
      "3SsnPorch        1460 non-null int64\n",
      "ScreenPorch      1460 non-null int64\n",
      "PoolArea         1460 non-null int64\n",
      "PoolQC           7 non-null object\n",
      "Fence            281 non-null object\n",
      "MiscFeature      54 non-null object\n",
      "MiscVal          1460 non-null int64\n",
      "MoSold           1460 non-null int64\n",
      "YrSold           1460 non-null int64\n",
      "SaleType         1460 non-null object\n",
      "SaleCondition    1460 non-null object\n",
      "SalePrice        1460 non-null int64\n",
      "dtypes: float64(3), int64(35), object(43)\n",
      "memory usage: 924.0+ KB\n"
     ]
    }
   ],
   "source": [
    "train_df.info()"
   ]
  },
  {
   "cell_type": "markdown",
   "metadata": {},
   "source": [
    "Above is a quick info about dataset.\n",
    "We can remove features :\n",
    "* which you think will not influence the target variable(irrelevant features)\n",
    "* that leaks information from the future (this will lead to overfit of the data)\n",
    "\n",
    "After examining each of the features,I came up with below list.\n",
    "Also many of the features are correlated to each other(multicollinearity) and so can be ignored.\n",
    "Features that may affect the price of house according to me are:\n",
    "* Utilities - Type of utilities available\n",
    "* OverallQual or OverallCond - we can pick any one\n",
    "* YearBuilt\n",
    "* TotalBsmtSF - Total basement area in square feet\n",
    "* GrLivArea   - Above ground living area in square feet\n",
    "* TotRmsAbvGrd - Total rooms above grade\n",
    "* GarageCars or GarageArea - we can pick any one\n",
    "* GarageQual or GarageCond - GarageArea/GarageCars feature is enough to decide on which house to buy. So we can ignore GarageQUal and GarageCond\n",
    "\n",
    "As you can see,just examining the each of the feature and thinking on it as per the problem context reduced the feature count."
   ]
  },
  {
   "cell_type": "markdown",
   "metadata": {},
   "source": [
    "Considering only these features. \n",
    "Lets see descriptive statistics of each of them"
   ]
  },
  {
   "cell_type": "code",
   "execution_count": 6,
   "metadata": {},
   "outputs": [
    {
     "data": {
      "text/html": [
       "<div>\n",
       "<style>\n",
       "    .dataframe thead tr:only-child th {\n",
       "        text-align: right;\n",
       "    }\n",
       "\n",
       "    .dataframe thead th {\n",
       "        text-align: left;\n",
       "    }\n",
       "\n",
       "    .dataframe tbody tr th {\n",
       "        vertical-align: top;\n",
       "    }\n",
       "</style>\n",
       "<table border=\"1\" class=\"dataframe\">\n",
       "  <thead>\n",
       "    <tr style=\"text-align: right;\">\n",
       "      <th></th>\n",
       "      <th>count</th>\n",
       "      <th>unique</th>\n",
       "      <th>top</th>\n",
       "      <th>freq</th>\n",
       "      <th>mean</th>\n",
       "      <th>std</th>\n",
       "      <th>min</th>\n",
       "      <th>25%</th>\n",
       "      <th>50%</th>\n",
       "      <th>75%</th>\n",
       "      <th>max</th>\n",
       "    </tr>\n",
       "  </thead>\n",
       "  <tbody>\n",
       "    <tr>\n",
       "      <th>Utilities</th>\n",
       "      <td>1460</td>\n",
       "      <td>2</td>\n",
       "      <td>AllPub</td>\n",
       "      <td>1459</td>\n",
       "      <td>NaN</td>\n",
       "      <td>NaN</td>\n",
       "      <td>NaN</td>\n",
       "      <td>NaN</td>\n",
       "      <td>NaN</td>\n",
       "      <td>NaN</td>\n",
       "      <td>NaN</td>\n",
       "    </tr>\n",
       "    <tr>\n",
       "      <th>OverallQual</th>\n",
       "      <td>1460</td>\n",
       "      <td>NaN</td>\n",
       "      <td>NaN</td>\n",
       "      <td>NaN</td>\n",
       "      <td>6.09932</td>\n",
       "      <td>1.383</td>\n",
       "      <td>1</td>\n",
       "      <td>5</td>\n",
       "      <td>6</td>\n",
       "      <td>7</td>\n",
       "      <td>10</td>\n",
       "    </tr>\n",
       "    <tr>\n",
       "      <th>YearBuilt</th>\n",
       "      <td>1460</td>\n",
       "      <td>NaN</td>\n",
       "      <td>NaN</td>\n",
       "      <td>NaN</td>\n",
       "      <td>1971.27</td>\n",
       "      <td>30.2029</td>\n",
       "      <td>1872</td>\n",
       "      <td>1954</td>\n",
       "      <td>1973</td>\n",
       "      <td>2000</td>\n",
       "      <td>2010</td>\n",
       "    </tr>\n",
       "    <tr>\n",
       "      <th>TotalBsmtSF</th>\n",
       "      <td>1460</td>\n",
       "      <td>NaN</td>\n",
       "      <td>NaN</td>\n",
       "      <td>NaN</td>\n",
       "      <td>1057.43</td>\n",
       "      <td>438.705</td>\n",
       "      <td>0</td>\n",
       "      <td>795.75</td>\n",
       "      <td>991.5</td>\n",
       "      <td>1298.25</td>\n",
       "      <td>6110</td>\n",
       "    </tr>\n",
       "    <tr>\n",
       "      <th>GrLivArea</th>\n",
       "      <td>1460</td>\n",
       "      <td>NaN</td>\n",
       "      <td>NaN</td>\n",
       "      <td>NaN</td>\n",
       "      <td>1515.46</td>\n",
       "      <td>525.48</td>\n",
       "      <td>334</td>\n",
       "      <td>1129.5</td>\n",
       "      <td>1464</td>\n",
       "      <td>1776.75</td>\n",
       "      <td>5642</td>\n",
       "    </tr>\n",
       "    <tr>\n",
       "      <th>TotRmsAbvGrd</th>\n",
       "      <td>1460</td>\n",
       "      <td>NaN</td>\n",
       "      <td>NaN</td>\n",
       "      <td>NaN</td>\n",
       "      <td>6.51781</td>\n",
       "      <td>1.62539</td>\n",
       "      <td>2</td>\n",
       "      <td>5</td>\n",
       "      <td>6</td>\n",
       "      <td>7</td>\n",
       "      <td>14</td>\n",
       "    </tr>\n",
       "    <tr>\n",
       "      <th>GarageArea</th>\n",
       "      <td>1460</td>\n",
       "      <td>NaN</td>\n",
       "      <td>NaN</td>\n",
       "      <td>NaN</td>\n",
       "      <td>472.98</td>\n",
       "      <td>213.805</td>\n",
       "      <td>0</td>\n",
       "      <td>334.5</td>\n",
       "      <td>480</td>\n",
       "      <td>576</td>\n",
       "      <td>1418</td>\n",
       "    </tr>\n",
       "    <tr>\n",
       "      <th>SalePrice</th>\n",
       "      <td>1460</td>\n",
       "      <td>NaN</td>\n",
       "      <td>NaN</td>\n",
       "      <td>NaN</td>\n",
       "      <td>180921</td>\n",
       "      <td>79442.5</td>\n",
       "      <td>34900</td>\n",
       "      <td>129975</td>\n",
       "      <td>163000</td>\n",
       "      <td>214000</td>\n",
       "      <td>755000</td>\n",
       "    </tr>\n",
       "  </tbody>\n",
       "</table>\n",
       "</div>"
      ],
      "text/plain": [
       "             count unique     top  freq     mean      std    min     25%  \\\n",
       "Utilities     1460      2  AllPub  1459      NaN      NaN    NaN     NaN   \n",
       "OverallQual   1460    NaN     NaN   NaN  6.09932    1.383      1       5   \n",
       "YearBuilt     1460    NaN     NaN   NaN  1971.27  30.2029   1872    1954   \n",
       "TotalBsmtSF   1460    NaN     NaN   NaN  1057.43  438.705      0  795.75   \n",
       "GrLivArea     1460    NaN     NaN   NaN  1515.46   525.48    334  1129.5   \n",
       "TotRmsAbvGrd  1460    NaN     NaN   NaN  6.51781  1.62539      2       5   \n",
       "GarageArea    1460    NaN     NaN   NaN   472.98  213.805      0   334.5   \n",
       "SalePrice     1460    NaN     NaN   NaN   180921  79442.5  34900  129975   \n",
       "\n",
       "                 50%      75%     max  \n",
       "Utilities        NaN      NaN     NaN  \n",
       "OverallQual        6        7      10  \n",
       "YearBuilt       1973     2000    2010  \n",
       "TotalBsmtSF    991.5  1298.25    6110  \n",
       "GrLivArea       1464  1776.75    5642  \n",
       "TotRmsAbvGrd       6        7      14  \n",
       "GarageArea       480      576    1418  \n",
       "SalePrice     163000   214000  755000  "
      ]
     },
     "execution_count": 6,
     "metadata": {},
     "output_type": "execute_result"
    }
   ],
   "source": [
    "features = ['Utilities','OverallQual','YearBuilt','TotalBsmtSF','GrLivArea','TotRmsAbvGrd','GarageArea','SalePrice']\n",
    "train_df[features].describe(include='all').transpose()\n"
   ]
  },
  {
   "cell_type": "markdown",
   "metadata": {},
   "source": [
    "* Utilities - categorical variable with only 2 unique values -with 'AllPub' value being most common ,we can remove this     variable, as my model wont learn anything from it\n",
    "* OverallQual - Its like rating varible so should be categorical,but stored in dataframe as integer.\n",
    "* YearBuilt - Again should be categorical variable,we should check how it affects Sale Price of the house\n",
    "* TotalBsmtSF - minimum value 0 - how can this happen ?may be for houses with no basement\n",
    "* GrLivArea - standard deviation is high, seems huge variation in living areas in different houses\n",
    "* GarageArea - again 0 minimum value - may be houses with no garage.\n",
    "* TotalRmsAbvGround - So any house would have minimum 2 rooms & at most 14 rooms\n",
    "* Sale Price - Average house price in this dataset is around 180k dollars,with 50% of houses having selling price of 163k dollars\n"
   ]
  },
  {
   "cell_type": "code",
   "execution_count": 7,
   "metadata": {},
   "outputs": [
    {
     "name": "stdout",
     "output_type": "stream",
     "text": [
      "\n"
     ]
    }
   ],
   "source": [
    "#lets drop other features which does not look important w.r.t. target variable\n",
    "train_df = train_df[features] #this removes remaining variables\n",
    "\n",
    "test_df = test_df[['Utilities','OverallQual','YearBuilt','TotalBsmtSF','GrLivArea','TotRmsAbvGrd','GarageArea']]\n",
    "\n",
    "#other changes\n",
    "train_df.drop('Utilities',inplace=True,axis = 1)\n",
    "features.remove('Utilities')\n",
    "train_df[['OverallQual','YearBuilt']] = train_df[['OverallQual','YearBuilt']].astype(object)\n",
    "train_df[['TotalBsmtSF','GarageArea','GrLivArea','SalePrice']] = train_df[['TotalBsmtSF','GarageArea','GrLivArea','SalePrice']].astype(float)\n",
    "\n",
    "test_df.drop('Utilities',inplace=True,axis = 1)\n",
    "test_df[['OverallQual','YearBuilt']] = test_df[['OverallQual','YearBuilt']].astype(object)\n",
    "test_df[['TotalBsmtSF','GarageArea','GrLivArea',]] = test_df[['TotalBsmtSF','GarageArea','GrLivArea']].astype(float)\n",
    "print()"
   ]
  },
  {
   "cell_type": "code",
   "execution_count": 8,
   "metadata": {},
   "outputs": [
    {
     "data": {
      "text/plain": [
       "OverallQual      object\n",
       "YearBuilt        object\n",
       "TotalBsmtSF     float64\n",
       "GrLivArea       float64\n",
       "TotRmsAbvGrd      int64\n",
       "GarageArea      float64\n",
       "SalePrice       float64\n",
       "dtype: object"
      ]
     },
     "execution_count": 8,
     "metadata": {},
     "output_type": "execute_result"
    }
   ],
   "source": [
    "train_df.dtypes"
   ]
  },
  {
   "cell_type": "markdown",
   "metadata": {},
   "source": [
    "Now the datatypes of variables looks fine.\n",
    "\n",
    "The challenge is to predict the final sale price of homes.This is stored in Sale Price column"
   ]
  },
  {
   "cell_type": "markdown",
   "metadata": {},
   "source": [
    "## Exploratory data analysis"
   ]
  },
  {
   "cell_type": "markdown",
   "metadata": {},
   "source": [
    "### Univariate Analysis\n",
    "\n",
    "Lets start with target variable - Sale Price of house"
   ]
  },
  {
   "cell_type": "code",
   "execution_count": 9,
   "metadata": {},
   "outputs": [
    {
     "data": {
      "text/plain": [
       "count      1460.000000\n",
       "mean     180921.195890\n",
       "std       79442.502883\n",
       "min       34900.000000\n",
       "25%      129975.000000\n",
       "50%      163000.000000\n",
       "75%      214000.000000\n",
       "max      755000.000000\n",
       "Name: SalePrice, dtype: float64"
      ]
     },
     "execution_count": 9,
     "metadata": {},
     "output_type": "execute_result"
    }
   ],
   "source": [
    "# summary statistic of Sale price variable\n",
    "train_df['SalePrice'].describe()"
   ]
  },
  {
   "cell_type": "markdown",
   "metadata": {},
   "source": [
    "The average selling price of house in our dataset is around 180,000 dollars, <br> with most of values falling between dollar 130,000 & $214,000.<br>\n",
    "The standard deviation is 79442 - i.e values are very much variable.\n",
    "Lets plot it and see."
   ]
  },
  {
   "cell_type": "code",
   "execution_count": 10,
   "metadata": {},
   "outputs": [
    {
     "data": {
      "text/plain": [
       "((array([-3.30513952, -3.04793228, -2.90489705, ...,  2.90489705,\n",
       "          3.04793228,  3.30513952]),\n",
       "  array([  34900.,   35311.,   37900., ...,  625000.,  745000.,  755000.])),\n",
       " (74160.164745194154, 180921.19589041095, 0.93196656415129864))"
      ]
     },
     "execution_count": 10,
     "metadata": {},
     "output_type": "execute_result"
    },
    {
     "data": {
      "image/png": "[encoded data removed]",
      "text/plain": [
       "<Figure size 864x360 with 2 Axes>"
      ]
     },
     "metadata": {},
     "output_type": "display_data"
    }
   ],
   "source": [
    "fig = plt.figure(figsize=(12,5))\n",
    "ax1 = fig.add_subplot(121)\n",
    "ax2 = fig.add_subplot(122)\n",
    "\n",
    "ax1.hist(train_df['SalePrice'] , color='blue', edgecolor='black', bins = 14)\n",
    "stats.probplot(train_df['SalePrice'], plot=ax2)"
   ]
  },
  {
   "cell_type": "markdown",
   "metadata": {},
   "source": [
    "Distribution is strongly right skewed.<br>\n",
    "Machine learning models works well with normal data.<br>\n",
    "To transform this to normal distribution, lets take log of Sale Price.<br>\n",
    "Also, the probability plot shows that this data is not normally distributed."
   ]
  },
  {
   "cell_type": "code",
   "execution_count": 11,
   "metadata": {},
   "outputs": [
    {
     "data": {
      "text/plain": [
       "((array([-3.30513952, -3.04793228, -2.90489705, ...,  2.90489705,\n",
       "          3.04793228,  3.30513952]),\n",
       "  array([ 10.46024211,  10.47194981,  10.54270639, ...,  13.34550693,\n",
       "          13.5211395 ,  13.53447303])),\n",
       " (0.39826223081618878, 12.024050901109383, 0.99537614756366133))"
      ]
     },
     "execution_count": 11,
     "metadata": {},
     "output_type": "execute_result"
    },
    {
     "data": {
      "image/png": "[encoded data removed]",
      "text/plain": [
       "<Figure size 864x360 with 2 Axes>"
      ]
     },
     "metadata": {},
     "output_type": "display_data"
    }
   ],
   "source": [
    "train_df['SalePrice'] = np.log(train_df['SalePrice'])\n",
    "\n",
    "fig = plt.figure(figsize=(12,5))\n",
    "ax1 = fig.add_subplot(121)\n",
    "ax2 = fig.add_subplot(122)\n",
    "\n",
    "ax1.hist(train_df['SalePrice'], edgecolor='black', color='blue')\n",
    "stats.probplot(train_df['SalePrice'], plot=ax2)"
   ]
  },
  {
   "cell_type": "markdown",
   "metadata": {},
   "source": [
    "Lets now consider other features."
   ]
  },
  {
   "cell_type": "code",
   "execution_count": 12,
   "metadata": {},
   "outputs": [
    {
     "data": {
      "text/plain": [
       "Index(['OverallQual', 'YearBuilt', 'TotalBsmtSF', 'GrLivArea', 'TotRmsAbvGrd',\n",
       "       'GarageArea', 'SalePrice'],\n",
       "      dtype='object')"
      ]
     },
     "execution_count": 12,
     "metadata": {},
     "output_type": "execute_result"
    }
   ],
   "source": [
    "train_df.columns"
   ]
  },
  {
   "cell_type": "code",
   "execution_count": 13,
   "metadata": {},
   "outputs": [
    {
     "data": {
      "text/plain": [
       "Text(0,0.5,'Count')"
      ]
     },
     "execution_count": 13,
     "metadata": {},
     "output_type": "execute_result"
    },
    {
     "data": {
      "image/png": "[encoded data removed]",
      "text/plain": [
       "<Figure size 1080x720 with 6 Axes>"
      ]
     },
     "metadata": {},
     "output_type": "display_data"
    }
   ],
   "source": [
    "fig = plt.figure(figsize=(15,10))\n",
    "ax1 = fig.add_subplot(231)\n",
    "ax2 = fig.add_subplot(232)\n",
    "#ax3 = fig.add_subplot(333)\n",
    "#ax4 = fig.add_subplot(334)\n",
    "ax5 = fig.add_subplot(233)\n",
    "ax6 = fig.add_subplot(234)\n",
    "ax7 = fig.add_subplot(235)\n",
    "ax8 = fig.add_subplot(236)\n",
    "\n",
    "overall_qual = train_df['OverallQual'].value_counts()\n",
    "#overall_cond = train_df['OverallCond'].value_counts()\n",
    "year_built = train_df['YearBuilt'].value_counts()\n",
    "#bsmnt_qual = train_df['BsmtQual'].value_counts()\n",
    "total_rooms = train_df['TotRmsAbvGrd'].value_counts()\n",
    "\n",
    "ax1.bar(overall_qual.index, overall_qual.values, color='blue')\n",
    "ax1.set_xlabel('Overall Quality')\n",
    "ax1.set_ylabel('Count')\n",
    "ax1.set_xticks(overall_qual.index)\n",
    "\n",
    "#ax2.bar(overall_cond.index, overall_cond.values, color='blue')\n",
    "#ax2.set_xlabel('Overall Condition')\n",
    "#ax2.set_ylabel('Count')\n",
    "#ax2.set_xticks(overall_cond.index)\n",
    "\n",
    "ax2.bar(year_built.index, year_built.values, color='blue')\n",
    "ax2.set_xlabel('Year Built')\n",
    "ax2.set_ylabel('Count')\n",
    "\n",
    "#ax4.bar(bsmnt_qual.index, bsmnt_qual.values, color='blue')\n",
    "#ax4.set_xlabel('Basement Quality')\n",
    "#ax4.set_ylabel('Count')\n",
    "\n",
    "ax5.hist(train_df['TotalBsmtSF'], edgecolor='black', bins = 15, color='blue')\n",
    "ax5.set_xlabel('Total Basement in square feet')\n",
    "ax5.set_ylabel('Count')\n",
    "\n",
    "ax6.hist(train_df['GrLivArea'], edgecolor='black', bins = 15, color='blue')\n",
    "ax6.set_xlabel('Ground Living Area in square feet')\n",
    "ax6.set_ylabel('Count')\n",
    "\n",
    "ax7.bar(total_rooms.index, total_rooms.values, color='blue')\n",
    "ax7.set_xlabel('Total Rooms above ground')\n",
    "ax7.set_xticks(total_rooms.index)\n",
    "ax7.set_ylabel('Count')\n",
    "\n",
    "ax8.hist(train_df['GarageArea'], edgecolor='black', bins = 15, color='blue')\n",
    "ax8.set_xlabel('Garage Area in square feet')\n",
    "ax8.set_ylabel('Count')\n"
   ]
  },
  {
   "cell_type": "markdown",
   "metadata": {},
   "source": [
    "Following conclusions can be made:\n",
    "* Overall Quality:\n",
    "   * 1- being Very Poor , 10 - being Very Excellent\n",
    "   * Most of the houses have overall quality rating 5,6 or 7 i.e Average or Good.\n",
    "   * I can merge the sparse classes 1,2,3,4 & 5,6,7 & 8,9,10 - into respective single classes\n",
    "\n",
    "* Year Built - Most of the houses in the dataset are built recently,around year 2000 and above\n",
    "* Total Rooms above ground - Usually houses have 5 to 8 no. of rooms\n",
    "* Total basement area & Ground living area - right skewed - need to convert it into normal distribution\n",
    "* Garage Area - Some houses have no garage,while most have 400 to 600 square feet area. "
   ]
  },
  {
   "cell_type": "code",
   "execution_count": 14,
   "metadata": {
    "collapsed": true
   },
   "outputs": [],
   "source": [
    "def encode(x):\n",
    "    if (x==1) or(x == 2) or (x==3) or (x==4): return 1\n",
    "    elif (x == 5) or (x==6) or (x==7): return 2\n",
    "    elif (x == 8) or (x==9) or (x==10): return 3\n",
    "    "
   ]
  },
  {
   "cell_type": "code",
   "execution_count": 15,
   "metadata": {
    "collapsed": true
   },
   "outputs": [],
   "source": [
    "#merge sparse classes into one & too many classes into one\n",
    "train_df['OverallQual'] = train_df['OverallQual'].apply(encode)\n",
    "test_df['OverallQual']  = test_df['OverallQual'].apply(encode)\n",
    "\n",
    "\n",
    "#log transform features\n",
    "train_df['TotalBsmtSF'] = np.log(train_df['TotalBsmtSF'] + 1) #to avoid division by zero\n",
    "train_df['GrLivArea'] = np.log(train_df['GrLivArea'])\n",
    "\n",
    "test_df['TotalBsmtSF'] = np.log(test_df['TotalBsmtSF'] + 1) #to avoid division by zero\n",
    "test_df['GrLivArea'] = np.log(test_df['GrLivArea'])"
   ]
  },
  {
   "cell_type": "markdown",
   "metadata": {},
   "source": [
    "### Multivariate Analysis"
   ]
  },
  {
   "cell_type": "code",
   "execution_count": 16,
   "metadata": {},
   "outputs": [
    {
     "name": "stdout",
     "output_type": "stream",
     "text": [
      "SalePrice       1.000000\n",
      "GrLivArea       0.730255\n",
      "OverallQual     0.695498\n",
      "GarageArea      0.650888\n",
      "TotRmsAbvGrd    0.534422\n",
      "TotalBsmtSF     0.372838\n",
      "Name: SalePrice, dtype: float64\n",
      "\n"
     ]
    }
   ],
   "source": [
    "#relationship between features\n",
    "#goal is to examine relationships between target and features\n",
    "\n",
    "corr = train_df.corr()\n",
    "\n",
    "print(corr['SalePrice'].sort_values(ascending=False)[:10]) #top 10 positive relationship\n",
    "print()\n",
    "#print(corr['SalePrice'].sort_values(ascending=False)[-10:]) #lowest 10 negative relationship"
   ]
  },
  {
   "cell_type": "markdown",
   "metadata": {},
   "source": [
    "Also lets visualize the relation between features and target variable.<br>\n",
    "Strong correlation value between variables doesnt actually mean that they are linearly related,<br> they may also be quadritically related.<br>\n",
    "To verify this we can visualize the relation"
   ]
  },
  {
   "cell_type": "code",
   "execution_count": 17,
   "metadata": {},
   "outputs": [
    {
     "data": {
      "text/plain": [
       "Text(0.5,1,'Sale Price increases as quality of house increases')"
      ]
     },
     "execution_count": 17,
     "metadata": {},
     "output_type": "execute_result"
    },
    {
     "data": {
      "image/png": "[encoded data removed]",
      "text/plain": [
       "<Figure size 576x576 with 1 Axes>"
      ]
     },
     "metadata": {},
     "output_type": "display_data"
    }
   ],
   "source": [
    "fig, ax = plt.subplots(figsize=(8,8))\n",
    "train_df.boxplot(column='SalePrice', by='OverallQual', ax=ax)\n",
    "plt.suptitle(\"\")\n",
    "plt.ylabel('Sale Price')\n",
    "plt.xlabel('Overall Quality')\n",
    "plt.title('Sale Price increases as quality of house increases', fontsize=12)"
   ]
  },
  {
   "cell_type": "markdown",
   "metadata": {},
   "source": [
    "Next,lets visualize relationship between GrLivArea(Ground Living Area) and Sale Price"
   ]
  },
  {
   "cell_type": "code",
   "execution_count": 18,
   "metadata": {},
   "outputs": [
    {
     "data": {
      "text/plain": [
       "Text(0.5,1,'Sale Price increases with increase in ground area')"
      ]
     },
     "execution_count": 18,
     "metadata": {},
     "output_type": "execute_result"
    },
    {
     "data": {
      "image/png": "[encoded data removed]",
      "text/plain": [
       "<Figure size 432x288 with 1 Axes>"
      ]
     },
     "metadata": {},
     "output_type": "display_data"
    }
   ],
   "source": [
    "plt.scatter(x=train_df['GrLivArea'], y=train_df['SalePrice'], alpha=0.4, color='blue')\n",
    "plt.ylabel('Sale Price')\n",
    "plt.xlabel('Ground Living Area in sqft')\n",
    "plt.title('Sale Price increases with increase in ground area')"
   ]
  },
  {
   "cell_type": "markdown",
   "metadata": {},
   "source": [
    "Immediately,we can see that increase in living area increases Sale price.<br>\n",
    "Lets do same for GarageArea.\n"
   ]
  },
  {
   "cell_type": "code",
   "execution_count": 19,
   "metadata": {},
   "outputs": [
    {
     "data": {
      "text/plain": [
       "Text(0.5,1,'Sale Price increases with increase in garage area')"
      ]
     },
     "execution_count": 19,
     "metadata": {},
     "output_type": "execute_result"
    },
    {
     "data": {
      "image/png": "[encoded data removed]",
      "text/plain": [
       "<Figure size 432x288 with 1 Axes>"
      ]
     },
     "metadata": {},
     "output_type": "display_data"
    }
   ],
   "source": [
    "plt.scatter(x=train_df['GarageArea'], y=train_df['SalePrice'],color='blue')\n",
    "plt.ylabel('Sale Price')\n",
    "plt.xlabel('Garage Area')\n",
    "plt.title('Sale Price increases with increase in garage area')"
   ]
  },
  {
   "cell_type": "markdown",
   "metadata": {},
   "source": [
    "Here also we can see linear relationship.<br>\n",
    "There are many houses with 0 garage area - means that they have no garage area.<br>\n",
    "There seems some outliers beyond 1200sqft garage area.<br>\n",
    "Lets remove them"
   ]
  },
  {
   "cell_type": "code",
   "execution_count": 20,
   "metadata": {
    "collapsed": true
   },
   "outputs": [],
   "source": [
    "train_df = train_df[train_df['GarageArea'] < 1200]\n",
    "test_df = test_df[test_df['GarageArea'] < 1200]"
   ]
  },
  {
   "cell_type": "markdown",
   "metadata": {},
   "source": [
    "Lets check again"
   ]
  },
  {
   "cell_type": "code",
   "execution_count": 21,
   "metadata": {},
   "outputs": [
    {
     "data": {
      "text/plain": [
       "Text(0.5,0,'Garage Area')"
      ]
     },
     "execution_count": 21,
     "metadata": {},
     "output_type": "execute_result"
    },
    {
     "data": {
      "image/png": "[encoded data removed]",
      "text/plain": [
       "<Figure size 432x288 with 1 Axes>"
      ]
     },
     "metadata": {},
     "output_type": "display_data"
    }
   ],
   "source": [
    "plt.scatter(x=train_df['GarageArea'], y=np.log(train_df['SalePrice']),color='blue')\n",
    "plt.xlim(-200,1500) #this forces same scale as before\n",
    "plt.ylabel('Sale Price')\n",
    "plt.xlabel('Garage Area')"
   ]
  },
  {
   "cell_type": "code",
   "execution_count": 22,
   "metadata": {},
   "outputs": [
    {
     "data": {
      "text/plain": [
       "Text(0.5,0,'Total BAsement area')"
      ]
     },
     "execution_count": 22,
     "metadata": {},
     "output_type": "execute_result"
    },
    {
     "data": {
      "image/png": "[encoded data removed]",
      "text/plain": [
       "<Figure size 432x288 with 1 Axes>"
      ]
     },
     "metadata": {},
     "output_type": "display_data"
    }
   ],
   "source": [
    "plt.scatter(x=train_df['TotalBsmtSF'], y=train_df['SalePrice'],color='blue')\n",
    "plt.ylabel('Sale Price')\n",
    "plt.xlabel('Total BAsement area')"
   ]
  },
  {
   "cell_type": "markdown",
   "metadata": {},
   "source": [
    "Again, Total Basement Area has linear relationship with Sale Price\n",
    "\n",
    "Now with 'Year Built' variable,lets create another variable 'yrs_old' which tells how old is the house.<br>\n",
    "This new feature will be more helpful as it will have direct relationship with target variable\n"
   ]
  },
  {
   "cell_type": "code",
   "execution_count": 23,
   "metadata": {
    "collapsed": true
   },
   "outputs": [],
   "source": [
    "train_df['yrs_old'] = 2018 - train_df['YearBuilt']\n",
    "test_df['yrs_old'] = 2018 - test_df['YearBuilt']\n",
    "\n",
    "train_df.drop('YearBuilt',axis=1, inplace=True)\n",
    "test_df.drop('YearBuilt', axis=1, inplace=True)"
   ]
  },
  {
   "cell_type": "code",
   "execution_count": 24,
   "metadata": {
    "collapsed": true
   },
   "outputs": [],
   "source": [
    "#binning yrs_old fetaure\n",
    "    \n",
    "#bin_ranges = [0,10,20,30,40,50,60,70,80,90,100,110,120,130,140,150]\n",
    "#bin_names = np.arange(1,16)\n",
    "#train_df['label'] = pd.cut(np.array(train_df['yrs_old']), bins=bin_ranges, labels=bin_names)\n",
    "#train_df.drop('label',axis=1,inplace=True)"
   ]
  },
  {
   "cell_type": "code",
   "execution_count": 25,
   "metadata": {},
   "outputs": [
    {
     "data": {
      "text/html": [
       "<div>\n",
       "<style>\n",
       "    .dataframe thead tr:only-child th {\n",
       "        text-align: right;\n",
       "    }\n",
       "\n",
       "    .dataframe thead th {\n",
       "        text-align: left;\n",
       "    }\n",
       "\n",
       "    .dataframe tbody tr th {\n",
       "        vertical-align: top;\n",
       "    }\n",
       "</style>\n",
       "<table border=\"1\" class=\"dataframe\">\n",
       "  <thead>\n",
       "    <tr style=\"text-align: right;\">\n",
       "      <th></th>\n",
       "      <th>OverallQual</th>\n",
       "      <th>TotalBsmtSF</th>\n",
       "      <th>GrLivArea</th>\n",
       "      <th>TotRmsAbvGrd</th>\n",
       "      <th>GarageArea</th>\n",
       "      <th>SalePrice</th>\n",
       "      <th>yrs_old</th>\n",
       "    </tr>\n",
       "  </thead>\n",
       "  <tbody>\n",
       "    <tr>\n",
       "      <th>0</th>\n",
       "      <td>2</td>\n",
       "      <td>6.753438</td>\n",
       "      <td>7.444249</td>\n",
       "      <td>8</td>\n",
       "      <td>548.0</td>\n",
       "      <td>12.247694</td>\n",
       "      <td>15</td>\n",
       "    </tr>\n",
       "    <tr>\n",
       "      <th>1</th>\n",
       "      <td>2</td>\n",
       "      <td>7.141245</td>\n",
       "      <td>7.140453</td>\n",
       "      <td>6</td>\n",
       "      <td>460.0</td>\n",
       "      <td>12.109011</td>\n",
       "      <td>42</td>\n",
       "    </tr>\n",
       "    <tr>\n",
       "      <th>2</th>\n",
       "      <td>2</td>\n",
       "      <td>6.825460</td>\n",
       "      <td>7.487734</td>\n",
       "      <td>6</td>\n",
       "      <td>608.0</td>\n",
       "      <td>12.317167</td>\n",
       "      <td>17</td>\n",
       "    </tr>\n",
       "    <tr>\n",
       "      <th>3</th>\n",
       "      <td>2</td>\n",
       "      <td>6.629363</td>\n",
       "      <td>7.448334</td>\n",
       "      <td>7</td>\n",
       "      <td>642.0</td>\n",
       "      <td>11.849398</td>\n",
       "      <td>103</td>\n",
       "    </tr>\n",
       "    <tr>\n",
       "      <th>4</th>\n",
       "      <td>3</td>\n",
       "      <td>7.044033</td>\n",
       "      <td>7.695303</td>\n",
       "      <td>9</td>\n",
       "      <td>836.0</td>\n",
       "      <td>12.429216</td>\n",
       "      <td>18</td>\n",
       "    </tr>\n",
       "  </tbody>\n",
       "</table>\n",
       "</div>"
      ],
      "text/plain": [
       "   OverallQual  TotalBsmtSF  GrLivArea  TotRmsAbvGrd  GarageArea  SalePrice  \\\n",
       "0            2     6.753438   7.444249             8       548.0  12.247694   \n",
       "1            2     7.141245   7.140453             6       460.0  12.109011   \n",
       "2            2     6.825460   7.487734             6       608.0  12.317167   \n",
       "3            2     6.629363   7.448334             7       642.0  11.849398   \n",
       "4            3     7.044033   7.695303             9       836.0  12.429216   \n",
       "\n",
       "  yrs_old  \n",
       "0      15  \n",
       "1      42  \n",
       "2      17  \n",
       "3     103  \n",
       "4      18  "
      ]
     },
     "execution_count": 25,
     "metadata": {},
     "output_type": "execute_result"
    }
   ],
   "source": [
    "train_df.head()"
   ]
  },
  {
   "cell_type": "code",
   "execution_count": 26,
   "metadata": {
    "collapsed": true
   },
   "outputs": [],
   "source": [
    "#create new feature - total house area\n",
    "#rename column names of df\n",
    "#standardize garage area feature"
   ]
  },
  {
   "cell_type": "code",
   "execution_count": 27,
   "metadata": {},
   "outputs": [
    {
     "data": {
      "text/html": [
       "<div>\n",
       "<style>\n",
       "    .dataframe thead tr:only-child th {\n",
       "        text-align: right;\n",
       "    }\n",
       "\n",
       "    .dataframe thead th {\n",
       "        text-align: left;\n",
       "    }\n",
       "\n",
       "    .dataframe tbody tr th {\n",
       "        vertical-align: top;\n",
       "    }\n",
       "</style>\n",
       "<table border=\"1\" class=\"dataframe\">\n",
       "  <thead>\n",
       "    <tr style=\"text-align: right;\">\n",
       "      <th></th>\n",
       "      <th>OverallQual</th>\n",
       "      <th>TotalBsmtSF</th>\n",
       "      <th>GrLivArea</th>\n",
       "      <th>TotRmsAbvGrd</th>\n",
       "      <th>GarageArea</th>\n",
       "      <th>yrs_old</th>\n",
       "    </tr>\n",
       "  </thead>\n",
       "  <tbody>\n",
       "    <tr>\n",
       "      <th>0</th>\n",
       "      <td>2</td>\n",
       "      <td>6.783325</td>\n",
       "      <td>6.797940</td>\n",
       "      <td>5</td>\n",
       "      <td>730.0</td>\n",
       "      <td>57</td>\n",
       "    </tr>\n",
       "    <tr>\n",
       "      <th>1</th>\n",
       "      <td>2</td>\n",
       "      <td>7.192934</td>\n",
       "      <td>7.192182</td>\n",
       "      <td>6</td>\n",
       "      <td>312.0</td>\n",
       "      <td>60</td>\n",
       "    </tr>\n",
       "    <tr>\n",
       "      <th>2</th>\n",
       "      <td>2</td>\n",
       "      <td>6.834109</td>\n",
       "      <td>7.395722</td>\n",
       "      <td>6</td>\n",
       "      <td>482.0</td>\n",
       "      <td>21</td>\n",
       "    </tr>\n",
       "    <tr>\n",
       "      <th>3</th>\n",
       "      <td>2</td>\n",
       "      <td>6.831954</td>\n",
       "      <td>7.380256</td>\n",
       "      <td>7</td>\n",
       "      <td>470.0</td>\n",
       "      <td>20</td>\n",
       "    </tr>\n",
       "    <tr>\n",
       "      <th>4</th>\n",
       "      <td>3</td>\n",
       "      <td>7.155396</td>\n",
       "      <td>7.154615</td>\n",
       "      <td>5</td>\n",
       "      <td>506.0</td>\n",
       "      <td>26</td>\n",
       "    </tr>\n",
       "  </tbody>\n",
       "</table>\n",
       "</div>"
      ],
      "text/plain": [
       "   OverallQual  TotalBsmtSF  GrLivArea  TotRmsAbvGrd  GarageArea yrs_old\n",
       "0            2     6.783325   6.797940             5       730.0      57\n",
       "1            2     7.192934   7.192182             6       312.0      60\n",
       "2            2     6.834109   7.395722             6       482.0      21\n",
       "3            2     6.831954   7.380256             7       470.0      20\n",
       "4            3     7.155396   7.154615             5       506.0      26"
      ]
     },
     "execution_count": 27,
     "metadata": {},
     "output_type": "execute_result"
    }
   ],
   "source": [
    "test_df.head()"
   ]
  },
  {
   "cell_type": "markdown",
   "metadata": {},
   "source": [
    "Lets check missing values\n"
   ]
  },
  {
   "cell_type": "code",
   "execution_count": 28,
   "metadata": {},
   "outputs": [
    {
     "data": {
      "text/plain": [
       "OverallQual     0\n",
       "TotalBsmtSF     0\n",
       "GrLivArea       0\n",
       "TotRmsAbvGrd    0\n",
       "GarageArea      0\n",
       "SalePrice       0\n",
       "yrs_old         0\n",
       "dtype: int64"
      ]
     },
     "execution_count": 28,
     "metadata": {},
     "output_type": "execute_result"
    }
   ],
   "source": [
    "train_df.isnull().sum()"
   ]
  },
  {
   "cell_type": "markdown",
   "metadata": {},
   "source": [
    "As there are no missing values,we can proceed with Modelling phase"
   ]
  },
  {
   "cell_type": "markdown",
   "metadata": {},
   "source": [
    "## Modelling"
   ]
  },
  {
   "cell_type": "code",
   "execution_count": 29,
   "metadata": {
    "collapsed": true
   },
   "outputs": [],
   "source": [
    "from sklearn.model_selection import learning_curve,train_test_split, RepeatedKFold\n",
    "from sklearn.linear_model import LinearRegression\n",
    "from sklearn.metrics import mean_squared_error\n"
   ]
  },
  {
   "cell_type": "code",
   "execution_count": 30,
   "metadata": {
    "collapsed": true
   },
   "outputs": [],
   "source": [
    "X = train_df.drop('SalePrice', axis=1)\n",
    "y = train_df['SalePrice']"
   ]
  },
  {
   "cell_type": "code",
   "execution_count": 32,
   "metadata": {
    "collapsed": true
   },
   "outputs": [],
   "source": [
    "X_train, X_test,y_train,y_test = train_test_split(X, y, test_size=0.2, random_state=0)\n",
    "\n",
    "#now keep X_test & y_test aside totally\n"
   ]
  },
  {
   "cell_type": "code",
   "execution_count": 52,
   "metadata": {},
   "outputs": [
    {
     "name": "stdout",
     "output_type": "stream",
     "text": [
      "Training error 0.0296784684032\n",
      "Test error 0.0309755026817\n",
      "Co-efficients [ 0.18451453  0.03885292  0.61179829 -0.01556694  0.00033928 -0.00331362]\n"
     ]
    }
   ],
   "source": [
    "model = LinearRegression()\n",
    "model.fit(X_train, y_train)\n",
    "ytrain_predictions = model.predict(X_train)\n",
    "training_error = mean_squared_error(y_train,ytrain_predictions)\n",
    "\n",
    "ytest_predictions = model.predict(X_test)\n",
    "test_error = mean_squared_error(y_test, ytest_predictions)\n",
    "\n",
    "print('Training error', training_error)\n",
    "\n",
    "print('Test error', test_error)\n",
    "print('Co-efficients', model.coef_)"
   ]
  },
  {
   "cell_type": "markdown",
   "metadata": {},
   "source": [
    "There seems not much difference between training error & test error, this means that our model generalizes well to unseen data\n",
    "<br>\n",
    "These co-efficients are weightage to each feature used"
   ]
  },
  {
   "cell_type": "code",
   "execution_count": 54,
   "metadata": {},
   "outputs": [
    {
     "data": {
      "text/plain": [
       "Index(['OverallQual', 'TotalBsmtSF', 'GrLivArea', 'TotRmsAbvGrd', 'GarageArea',\n",
       "       'yrs_old'],\n",
       "      dtype='object')"
      ]
     },
     "execution_count": 54,
     "metadata": {},
     "output_type": "execute_result"
    }
   ],
   "source": [
    "X_train.columns"
   ]
  },
  {
   "cell_type": "markdown",
   "metadata": {},
   "source": [
    "Lets view this relationship graphically with scatter plot"
   ]
  },
  {
   "cell_type": "code",
   "execution_count": 40,
   "metadata": {},
   "outputs": [
    {
     "data": {
      "text/plain": [
       "Text(0.5,1,'Linear Regression Model')"
      ]
     },
     "execution_count": 40,
     "metadata": {},
     "output_type": "execute_result"
    },
    {
     "data": {
      "image/png": "[encoded data removed]",
      "text/plain": [
       "<Figure size 432x288 with 1 Axes>"
      ]
     },
     "metadata": {},
     "output_type": "display_data"
    }
   ],
   "source": [
    "plt.scatter(ytest_predictions, y_test, alpha=0.75, color='b')\n",
    "plt.xlabel('Predicted Price')\n",
    "plt.ylabel('Actual Price')\n",
    "plt.title('Linear Regression Model')"
   ]
  },
  {
   "cell_type": "markdown",
   "metadata": {},
   "source": [
    "If our predicted values were identical to actual values,this graph would have been the straight line y=x, <br>\n",
    "because each predicted value x would be equal to each actua value y\n",
    "\n",
    "<br>\n",
    "Lets now predict house prices of test set provided to us"
   ]
  },
  {
   "cell_type": "markdown",
   "metadata": {},
   "source": [
    "Test set contains one missing value for Total BAsement area column, we can discard  this row"
   ]
  },
  {
   "cell_type": "code",
   "execution_count": 62,
   "metadata": {
    "collapsed": true
   },
   "outputs": [],
   "source": [
    "test_df.dropna(axis=0,inplace=True)\n"
   ]
  },
  {
   "cell_type": "code",
   "execution_count": 67,
   "metadata": {
    "collapsed": true
   },
   "outputs": [],
   "source": [
    "test_predictions = model.predict(test_df)"
   ]
  },
  {
   "cell_type": "code",
   "execution_count": 74,
   "metadata": {
    "collapsed": true
   },
   "outputs": [],
   "source": [
    "test_df['SalePrice'] = test_predictions"
   ]
  },
  {
   "cell_type": "code",
   "execution_count": 129,
   "metadata": {
    "collapsed": true
   },
   "outputs": [],
   "source": [
    "test_df['SalePrice'] = np.round(np.exp(test_df['SalePrice']))"
   ]
  },
  {
   "cell_type": "code",
   "execution_count": 133,
   "metadata": {
    "collapsed": true
   },
   "outputs": [],
   "source": [
    "submit = pd.concat([test_df['SalePrice'], test_df_copy] , axis=1)\n",
    "submit = submit[['Id', 'SalePrice']]"
   ]
  },
  {
   "cell_type": "code",
   "execution_count": 134,
   "metadata": {
    "collapsed": true
   },
   "outputs": [],
   "source": [
    "submit.to_csv('Submission.csv',index=False)"
   ]
  },
  {
   "cell_type": "code",
   "execution_count": null,
   "metadata": {
    "collapsed": true
   },
   "outputs": [],
   "source": []
  }
 ],
 "metadata": {
  "kernelspec": {
   "display_name": "Python 3",
   "language": "python",
   "name": "python3"
  },
  "language_info": {
   "codemirror_mode": {
    "name": "ipython",
    "version": 3
   },
   "file_extension": ".py",
   "mimetype": "text/x-python",
   "name": "python",
   "nbconvert_exporter": "python",
   "pygments_lexer": "ipython3",
   "version": "3.6.3"
  }
 },
 "nbformat": 4,
 "nbformat_minor": 2
}
